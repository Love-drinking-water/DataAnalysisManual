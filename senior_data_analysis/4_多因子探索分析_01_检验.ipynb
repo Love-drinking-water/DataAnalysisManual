{
 "cells": [
  {
   "cell_type": "markdown",
   "metadata": {},
   "source": [
    "# 探索性数据分析（多因子与复合分析）"
   ]
  },
  {
   "cell_type": "markdown",
   "metadata": {},
   "source": [
    "### 理论知识"
   ]
  },
  {
   "cell_type": "code",
   "execution_count": 1,
   "metadata": {},
   "outputs": [],
   "source": [
    "# 假设检验与方差检验\n",
    "# 相关系数：皮尔逊、斯皮尔曼\n",
    "# 回归：线性回归\n",
    "# PCA（主成分分析）与奇异值分解"
   ]
  },
  {
   "cell_type": "markdown",
   "metadata": {},
   "source": [
    "#### 假设检验"
   ]
  },
  {
   "cell_type": "code",
   "execution_count": 2,
   "metadata": {},
   "outputs": [],
   "source": [
    "# 根据一定的假设条件，从样本推断总体，或者推断样本与样本之间关系的一种方法\n",
    "# 步骤：\n",
    "# 1.建立原假设H0（包含等号），H0的反命题H1,也叫备择假设\n",
    "# 2.选择检验统计量（根据数据的均值、方差等性质构造的一个转换函数）\n",
    "# 3.根据显著性水平R（一般为0.05），确定拒绝域。比如我们确定了某个数据属性有95%是某个分布，那么它的显著性水平就是5%。\n",
    "# 4.计算p值（比预测结果更差的概率）或样本统计值，作出判断"
   ]
  },
  {
   "cell_type": "markdown",
   "metadata": {},
   "source": [
    "#### 卡方检验"
   ]
  },
  {
   "cell_type": "code",
   "execution_count": 3,
   "metadata": {},
   "outputs": [],
   "source": [
    "# T分布检验：常用来比较两组样本分布是否一致，像临床医疗上药物是否有效果\n",
    "# F检验：常用在方差分析\n",
    "\n",
    "# 卡方检验：例子，调查化妆是否和性别有关系。也叫做四格表检验法，常用来检验两个因素之间是否有联系"
   ]
  },
  {
   "cell_type": "markdown",
   "metadata": {},
   "source": [
    "#### 方差检验"
   ]
  },
  {
   "cell_type": "code",
   "execution_count": 4,
   "metadata": {},
   "outputs": [],
   "source": [
    "# 也叫F检验，例子，看三种电池的寿命是否有差别。\n",
    "# SST:每个数据的数据值减去所有数据的均值的平方和。 总变差平方和\n",
    "# SSM:每组数据的均值减去所有数据的均值的平方和。 平均平方和 也叫 组间平方和\n",
    "# SSE:每一个数减去它所属的组的平均值的平方和。 残差平方和 也叫 组内平方和\n",
    "# 检验统计量F，做假设检验【F满足自由度（m-1，n-m）的F分布】"
   ]
  },
  {
   "cell_type": "markdown",
   "metadata": {},
   "source": [
    "#### 相关系数"
   ]
  },
  {
   "cell_type": "code",
   "execution_count": 5,
   "metadata": {},
   "outputs": [],
   "source": [
    "# 衡量两组数据或者是两组样本的分布趋势，变化趋势一致性程度的因子，相关系数有，正相关、负相关和不相关。相关系数越大，越接近与1，\n",
    "# 两者的变化趋势越正向同步。相关系数越小越接近与负1，两者的变化趋势越反向同步。一个变大另外一个就会变小。相关系数趋近与0，\n",
    "# 可认为两者没有相关关系。\n",
    "# 常用的相关系数：皮尔逊相关系数和斯皮尔曼相关系数\n",
    "# 皮尔逊相关系数：分子是两组数的斜方差，分母是两组数的标准差的积（相当于归一化因子）\n",
    "# 斯皮尔曼相关系数：先进行排名，再取其名次差，再带入公式求得Spearman相关系数。其值只与名次差有关，与具体的数值无关。常用与相对比较大的情况"
   ]
  },
  {
   "cell_type": "markdown",
   "metadata": {},
   "source": [
    "#### 线性回归"
   ]
  },
  {
   "cell_type": "code",
   "execution_count": 7,
   "metadata": {},
   "outputs": [],
   "source": [
    "# 回归：确定两种或两种以上变量间相互依赖的定量关系的一种统计分析方法\n",
    "# 若因变量和自变量之间的关系是线性的，那么就是线性回归，线性回归最常见的解法是最小二乘法。\n",
    "# 线性回归效果的判定 \n",
    "# 关键指标：决定系数R平方（决定系数越接近与1，回归效果越好，越接近与0，回归效果越差）  \n",
    "# 残差不相关（DW检验）取值范围0-4，值为2代表残差不相关，接近与4代表残差正相关，接近于0代表残差负相关。好的回归残差应该不相关"
   ]
  },
  {
   "cell_type": "markdown",
   "metadata": {},
   "source": [
    "#### 主成分分析（PCA）"
   ]
  },
  {
   "cell_type": "code",
   "execution_count": 8,
   "metadata": {},
   "outputs": [],
   "source": [
    "# 最重要的作用是降维\n",
    "\n",
    "# 可以通过正交变换，将一组可能存在相关性的变量转化为一组线性不相关的变量，在转化后的新的纬度上，有的尺度被拉伸，有的尺度被收缩，\n",
    "# 我们取最能代表转换后纬度的成分，即尺度比较大的纬度，就是主成分，相应的分析就是主成分分析，变换过程就是PCA变换。\n",
    "# PCA变换的一般过程为\n",
    "# 1.求特征协方差矩阵\n",
    "# 2.求协方差矩阵的特征值和特征向量\n",
    "# 3.将特征值按照从大到小的顺序排列，选择其中最大的K个\n",
    "# 4.将样本点投影到选取的特征向量上"
   ]
  },
  {
   "cell_type": "markdown",
   "metadata": {},
   "source": [
    "#### 奇异值分解 （SVD）"
   ]
  },
  {
   "cell_type": "code",
   "execution_count": null,
   "metadata": {},
   "outputs": [],
   "source": [
    "# 作用也是降维\n",
    "# 特征矩阵A分解为m*m的酉阵U，m*m半正定矩阵（奇异值阵），n*n酉阵转置V"
   ]
  }
 ],
 "metadata": {
  "kernelspec": {
   "display_name": "Python 3",
   "language": "python",
   "name": "python3"
  },
  "language_info": {
   "codemirror_mode": {
    "name": "ipython",
    "version": 3
   },
   "file_extension": ".py",
   "mimetype": "text/x-python",
   "name": "python",
   "nbconvert_exporter": "python",
   "pygments_lexer": "ipython3",
   "version": "3.7.4"
  }
 },
 "nbformat": 4,
 "nbformat_minor": 2
}
