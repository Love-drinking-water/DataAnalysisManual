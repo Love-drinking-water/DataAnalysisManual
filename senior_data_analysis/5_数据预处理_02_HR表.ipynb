{
 "cells": [
  {
   "cell_type": "code",
   "execution_count": 3,
   "metadata": {},
   "outputs": [],
   "source": [
    "import pandas as pd\n",
    "import numpy as np\n",
    "from sklearn.preprocessing import MinMaxScaler, StandardScaler\n",
    "from sklearn.preprocessing import LabelEncoder, OneHotEncoder\n",
    "from sklearn.preprocessing import Normalizer\n",
    "from sklearn.discriminant_analysis import LinearDiscriminantAnalysis"
   ]
  },
  {
   "cell_type": "code",
   "execution_count": 4,
   "metadata": {},
   "outputs": [
    {
     "name": "stdout",
     "output_type": "stream",
     "text": [
      "       satisfaction_level  last_evaluation  number_project  \\\n",
      "0                    0.38             0.53               2   \n",
      "1                    0.80             0.86               5   \n",
      "2                    0.11             0.88               7   \n",
      "3                    0.72             0.87               5   \n",
      "4                    0.37             0.52               2   \n",
      "...                   ...              ...             ...   \n",
      "14997                0.11             0.96               6   \n",
      "14998                0.37             0.52               2   \n",
      "14999                 NaN             0.52               2   \n",
      "15000                 NaN        999999.00               2   \n",
      "15001                0.70             0.40               2   \n",
      "\n",
      "       average_monthly_hours  time_spend_company  Work_accident  left  \\\n",
      "0                        157                   3              0     1   \n",
      "1                        262                   6              0     1   \n",
      "2                        272                   4              0     1   \n",
      "3                        223                   5              0     1   \n",
      "4                        159                   3              0     1   \n",
      "...                      ...                 ...            ...   ...   \n",
      "14997                    280                   4              0     1   \n",
      "14998                    158                   3              0     1   \n",
      "14999                    158                   3              0     1   \n",
      "15000                    158                   3              0     1   \n",
      "15001                    158                   2              0     1   \n",
      "\n",
      "       promotion_last_5years department  salary  \n",
      "0                          0      sales     low  \n",
      "1                          0      sales  medium  \n",
      "2                          0      sales  medium  \n",
      "3                          0      sales     low  \n",
      "4                          0      sales     low  \n",
      "...                      ...        ...     ...  \n",
      "14997                      0    support     low  \n",
      "14998                      0    support     low  \n",
      "14999                      0    support     low  \n",
      "15000                      0       sale     low  \n",
      "15001                      0       sale     nme  \n",
      "\n",
      "[15002 rows x 10 columns]\n"
     ]
    }
   ],
   "source": [
    "def hr_preprocessing():\n",
    "    df = pd.read_csv('./data/HR.csv')\n",
    "    return df\n",
    "    \n",
    "def main():\n",
    "    print(hr_preprocessing())\n",
    "\n",
    "if __name__==\"__main__\":\n",
    "    main()"
   ]
  },
  {
   "cell_type": "code",
   "execution_count": null,
   "metadata": {},
   "outputs": [],
   "source": []
  }
 ],
 "metadata": {
  "kernelspec": {
   "display_name": "Python 3",
   "language": "python",
   "name": "python3"
  },
  "language_info": {
   "codemirror_mode": {
    "name": "ipython",
    "version": 3
   },
   "file_extension": ".py",
   "mimetype": "text/x-python",
   "name": "python",
   "nbconvert_exporter": "python",
   "pygments_lexer": "ipython3",
   "version": "3.7.4"
  }
 },
 "nbformat": 4,
 "nbformat_minor": 2
}
