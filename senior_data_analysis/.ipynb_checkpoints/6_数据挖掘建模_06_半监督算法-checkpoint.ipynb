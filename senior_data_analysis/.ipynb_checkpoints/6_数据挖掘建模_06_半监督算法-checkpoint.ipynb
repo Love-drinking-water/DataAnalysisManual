{
 "cells": [
  {
   "cell_type": "markdown",
   "metadata": {},
   "source": [
    "### 半监督学习"
   ]
  },
  {
   "cell_type": "code",
   "execution_count": 1,
   "metadata": {},
   "outputs": [],
   "source": [
    "# 半监督学习：样本集部分有标注，部分无标注（常远大于有标注样本）\n",
    "# 目标是：试图根据有标注的样本和样本总体的分布情况给没有标注的样本打上标注。\n",
    "# 产生的原因：\n",
    "    # 1.获取标注的成本比较大\n",
    "    # 2.无标注的样本可能很容易获得\n",
    "# 算法思路\n",
    "    # 1.生成模型：先计算出样本特征总体的联合分布，就可以根据生成模型思想将所有有标注的样本计算出一个分布，然后将没有标注的样本放入这个分布中，看根据这个分布，它该如何被标注。\n",
    "    # 2.物以类聚（判别思路）：\n",
    "        # 标签传播算法（LabelPropagation）：根据没有标注的样本和周围有标注的样本进行相似度的比较，相似度高的就被标注成临近的标注\n",
    "            # kernel:{'knn', 'rbf', callable} 使用的方法\n",
    "            # gamma:float  rbf中的方法 \n",
    "            # n_neighbors:integer>0  knn中的方法"
   ]
  },
  {
   "cell_type": "code",
   "execution_count": 18,
   "metadata": {},
   "outputs": [
    {
     "name": "stdout",
     "output_type": "stream",
     "text": [
      "Unlabeled Number: 47\n",
      "ACC: 0.9787234042553191\n",
      "REC: 0.9787234042553191\n",
      "F-Score: 0.9787234042553191\n"
     ]
    }
   ],
   "source": [
    "import numpy as np\n",
    "from sklearn import datasets\n",
    "\n",
    "# 引入鸢尾花数据集\n",
    "iris = datasets.load_iris()\n",
    "# print(iris)\n",
    "# 获取label\n",
    "labels = np.copy(iris.target)\n",
    "# print(len(labels))\n",
    "# 标签传播算法中要求未标注的数据的label为-1\n",
    "# 构造一些值将label设置为-1\n",
    "random_unlabeled_points = np.random.rand(len(iris.target))\n",
    "# 将random_unlabeled_points转换成0和1的数 小于0.3返回1  大于等于0.3返回0\n",
    "random_unlabeled_points = random_unlabeled_points<0.3\n",
    "# 转换之前的值\n",
    "Y = labels[random_unlabeled_points]\n",
    "# 将标签为1的数换成-1\n",
    "labels[random_unlabeled_points] = -1\n",
    "# 打印无标注数据\n",
    "print(\"Unlabeled Number:\", list(labels).count(-1))\n",
    "# 引入半监督学习算法 LabelPropagation\n",
    "from sklearn.semi_supervised import LabelPropagation\n",
    "label_prop_model = LabelPropagation()\n",
    "# 拟合包含非标注的labels\n",
    "label_prop_model.fit(iris.data, labels)\n",
    "# 进行预测\n",
    "Y_pred = label_prop_model.predict(iris.data)\n",
    "# 取原来被标注过-1的那部分数据\n",
    "Y_pred = Y_pred[random_unlabeled_points]\n",
    "# 引入评价方法，准确率，召回率，F分值\n",
    "from sklearn.metrics import accuracy_score, recall_score, f1_score\n",
    "print(\"ACC:\", accuracy_score(Y, Y_pred))\n",
    "# micro 将分对的单独拿出来计算REC\n",
    "print(\"REC:\", recall_score(Y, Y_pred, average=\"micro\"))\n",
    "print(\"F-Score:\", f1_score(Y, Y_pred, average=\"micro\"))"
   ]
  },
  {
   "cell_type": "code",
   "execution_count": null,
   "metadata": {},
   "outputs": [],
   "source": []
  }
 ],
 "metadata": {
  "kernelspec": {
   "display_name": "Python 3",
   "language": "python",
   "name": "python3"
  },
  "language_info": {
   "codemirror_mode": {
    "name": "ipython",
    "version": 3
   },
   "file_extension": ".py",
   "mimetype": "text/x-python",
   "name": "python",
   "nbconvert_exporter": "python",
   "pygments_lexer": "ipython3",
   "version": "3.7.4"
  }
 },
 "nbformat": 4,
 "nbformat_minor": 2
}
