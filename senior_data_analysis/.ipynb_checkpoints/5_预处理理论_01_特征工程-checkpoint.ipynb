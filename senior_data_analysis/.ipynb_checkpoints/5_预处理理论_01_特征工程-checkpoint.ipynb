{
 "cells": [
  {
   "cell_type": "markdown",
   "metadata": {},
   "source": [
    "## 特征工程"
   ]
  },
  {
   "cell_type": "code",
   "execution_count": 1,
   "metadata": {},
   "outputs": [],
   "source": [
    "# 数据和特征决定了机器学习的上限，而模型和算法只是逼近这个上限而已。 ⚠️重点！数据的数量和质量比算法重要的多！\n",
    "# 特征工程包括：\n",
    "# 1.特征使用 （关注点都在特征的原数据上）\n",
    "    # 数据的选择：是分析和我们目标最相关的数据都有哪些，这些数据如何获取。\n",
    "    # 数据的可用性判断：是指数据特征是否可以持续输出\n",
    "# 2.特征获取\n",
    "    # 特征来源：即我们需要的特征来自与哪张表或哪个文件\n",
    "    # 特征存储：如特征来自于不同的文件或不同的数据库，就要将数据进行规整，存储在将来想要使用的媒介中\n",
    "# 3.特征处理：目的是数据属性和特征尽可能大的发挥作用，体现差别\n",
    "    # 数据清洗：\n",
    "    # 特征预处理：\n",
    "# 4.特征监控\n",
    "    # 现有特征：主要看是否对现有的任务还存在积极的作用\n",
    "    # 新的特征：看知否有助于提高效果，或更能代表我们的任务目标"
   ]
  },
  {
   "cell_type": "markdown",
   "metadata": {},
   "source": [
    "#### 数据清洗"
   ]
  },
  {
   "cell_type": "code",
   "execution_count": 2,
   "metadata": {},
   "outputs": [],
   "source": [
    "# 数据样本抽样\n",
    "# 样本要具有代表性\n",
    "# 样本比例平衡以及样本不平衡时如何处理\n",
    "# 考虑全量数据 （hadoop、spark大数据工具）"
   ]
  },
  {
   "cell_type": "code",
   "execution_count": 3,
   "metadata": {},
   "outputs": [],
   "source": [
    "# 异常值（空值）处理\n",
    "# 识别异常值和重复值  pandas:isnull()/duplicated()\n",
    "# 直接丢弃（包括重复数据） pandas:drop()/dropna()/drop_duplicated()\n",
    "# 将异常值当作一个新的属性，替代原值 pandas:fillna()\n",
    "# 集中值指代：pandas:fillna() 集中值可以是：除异常值外的均值、中位数、众数等\n",
    "# 边界值指代：pandas:fillna() 利用四分位数的边界\n",
    "# 插值： pandas:interpolate() --- Series"
   ]
  },
  {
   "cell_type": "code",
   "execution_count": null,
   "metadata": {},
   "outputs": [],
   "source": [
    "# 字符类型的空值是：None\n",
    "# 数值类型的空值是：NaN\n",
    "df = somedata\n",
    "# 查看空值\n",
    "df.isnull()\n",
    "# 删除空值\n",
    "df.dropna()\n",
    "# 去掉B行的空值\n",
    "df.dropna(subset=[\"B\"])\n",
    "# 识别重复值\n",
    "df.duplicated([\"A\"])\n",
    "# 删除重复值\n",
    "# keep=\"first\" last, False:删除所有重复值\n",
    "# inplace=True  可以让DF的index也跟着发生变化\n",
    "df.drop_duplicates([\"A\"], keep=\"first\")\n",
    "# 标注异常值\n",
    "df.fillna(\"b*\")\n",
    "# 集中值指代 均值\n",
    "df.fillna(df[\"E\"].mean())\n",
    "# 插值 （只能用于series数据），返回的是相邻两个值的平均值，处于两端的话，就取最近的数\n",
    "# method=\"spline\", order=3  三次样条\n",
    "df[\"E\"].interpolate()\n",
    "# 用四分位数确定上下界的方法进行过滤\n",
    "upper_q = df[\"D\"].quantile(0.75)\n",
    "lower_q = df[\"D\"].quantile(0.25)\n",
    "q_int = upper_q - lower_q\n",
    "k = 1.5\n",
    "df[df[\"D\"]>lower_q-k*q_int][df[\"D\"]<upper_q+k*q_int]\n",
    "# 去除异常值\n",
    "df.drop(2)\n",
    "# 或者\n",
    "df[[True if item.startswith(\"f\") else False for item in list(df[\"F\"].values)]]"
   ]
  }
 ],
 "metadata": {
  "kernelspec": {
   "display_name": "Python 3",
   "language": "python",
   "name": "python3"
  },
  "language_info": {
   "codemirror_mode": {
    "name": "ipython",
    "version": 3
   },
   "file_extension": ".py",
   "mimetype": "text/x-python",
   "name": "python",
   "nbconvert_exporter": "python",
   "pygments_lexer": "ipython3",
   "version": "3.7.4"
  }
 },
 "nbformat": 4,
 "nbformat_minor": 2
}
