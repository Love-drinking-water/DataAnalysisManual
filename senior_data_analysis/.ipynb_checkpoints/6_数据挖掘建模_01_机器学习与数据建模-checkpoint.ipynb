{
 "cells": [
  {
   "cell_type": "code",
   "execution_count": null,
   "metadata": {},
   "outputs": [],
   "source": [
    "# 学习：通过接收到的数据，归纳提取相同与不同。\n",
    "# 机器学习：让计算机以数据为基础，进行归纳与总结\n",
    "# 模型：数据解释现象的系统\n",
    "# 机器学习：\n",
    "    # 监督学习（有标注）\n",
    "        # 分类：标注是离散值\n",
    "        # 回归：标注是连续值\n",
    "    # 非监督学习（无标注）完全让数据自己说话，将数据不同的特征在不同的模型中进行不同的表现\n",
    "        # 聚类分析\n",
    "        # 关联分析\n",
    "    # 半监督学习（部分有标注部分无标注）有标注的数据可以作用与无标注的数据，反过来也可以"
   ]
  }
 ],
 "metadata": {
  "kernelspec": {
   "display_name": "Python 3",
   "language": "python",
   "name": "python3"
  },
  "language_info": {
   "codemirror_mode": {
    "name": "ipython",
    "version": 3
   },
   "file_extension": ".py",
   "mimetype": "text/x-python",
   "name": "python",
   "nbconvert_exporter": "python",
   "pygments_lexer": "ipython3",
   "version": "3.7.4"
  }
 },
 "nbformat": 4,
 "nbformat_minor": 2
}
