{
 "cells": [
  {
   "cell_type": "markdown",
   "metadata": {},
   "source": [
    "### 分类评估"
   ]
  },
  {
   "cell_type": "code",
   "execution_count": null,
   "metadata": {},
   "outputs": [],
   "source": [
    "# 1.分类模型评估\n",
    "    # 二分类：标注分类只有两类。正类用1表示（比较关注），负类用0表示\n",
    "        # 混淆矩阵：\n",
    "            # TP(Ture Positive):实际是正类，识别为正类      Y_11\n",
    "            # FN(False Negative):实际是正类，识别为负类（漏）Y_10\n",
    "            # FP(False Positive):实际是负类，识别为正类（错）Y_01\n",
    "            # TN(True Negative):实际是负类，识别为负类      Y_00\n",
    "        # 关键指标\n",
    "            # 正确率：所有被正确分类所占的比例\n",
    "            # 召回率：真实被分为正类的数据/所有真实的正类\n",
    "            # F-score:2*召回率*准确率/召回率+准确率 \n",
    "            # 查准率（Precision）：真的正类/真的正类+假的正类\n",
    "            # 错误接收率（FPR）:有多少负类被划成了正类的比例 FP/(FP+TN)\n",
    "            # 错误拒绝率（FRR）:真实的所有正类中有多少是被错误拒绝的（有多少真实的正类没有被判为正类） FN/(TP+FN)\n",
    "    # 多类   \n",
    "        # 多元混淆矩阵：\n",
    "            # 正确率：所有被正确分类所占的比例\n",
    "            # 召回率 和 F-score\n",
    "                # 1.先计算所有的TP，FN等，再以二值方法计算 (micro方法)\n",
    "                # 2.分别把每个类别当作正类，都算一个召回或者F值，然后取加权（weighted）或者不加权(macro)的平均\n",
    "# 2.回归模型评估\n",
    "# 3.聚类模型评估\n",
    "# 4.关联模型评估"
   ]
  }
 ],
 "metadata": {
  "kernelspec": {
   "display_name": "Python 3",
   "language": "python",
   "name": "python3"
  },
  "language_info": {
   "codemirror_mode": {
    "name": "ipython",
    "version": 3
   },
   "file_extension": ".py",
   "mimetype": "text/x-python",
   "name": "python",
   "nbconvert_exporter": "python",
   "pygments_lexer": "ipython3",
   "version": "3.7.4"
  }
 },
 "nbformat": 4,
 "nbformat_minor": 2
}
