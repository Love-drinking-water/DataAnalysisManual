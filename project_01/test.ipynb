{
 "cells": [
  {
   "cell_type": "code",
   "execution_count": 1,
   "metadata": {},
   "outputs": [],
   "source": [
    "import numpy as np\n",
    "import pandas as pd"
   ]
  },
  {
   "cell_type": "code",
   "execution_count": 2,
   "metadata": {},
   "outputs": [
    {
     "name": "stdout",
     "output_type": "stream",
     "text": [
      "20\n"
     ]
    }
   ],
   "source": [
    "sum_num = lambda x,y : x*y\n",
    "print(sum_num(4,5))"
   ]
  },
  {
   "cell_type": "code",
   "execution_count": 4,
   "metadata": {},
   "outputs": [
    {
     "name": "stdout",
     "output_type": "stream",
     "text": [
      "{'age': 18, 'city': '深圳', 'name': 'zs', 'tel': '1362626627'}\n"
     ]
    }
   ],
   "source": [
    "dic={\"name\":\"zs\",\"age\":18,\"city\":\"深圳\",\"tel\":\"1362626627\"}\n",
    "sorted_num = sorted(dic.items(), key=lambda i:i[0], reverse=False)\n",
    "print(dict(sorted_num))"
   ]
  },
  {
   "cell_type": "markdown",
   "metadata": {},
   "source": [
    "#### 创建单例 "
   ]
  },
  {
   "cell_type": "code",
   "execution_count": 17,
   "metadata": {},
   "outputs": [
    {
     "name": "stdout",
     "output_type": "stream",
     "text": [
      "4641972744\n",
      "4641972744\n"
     ]
    }
   ],
   "source": [
    "class singleleton(object):\n",
    "    __isinstance = None\n",
    "    def __new__(cls, name, age):\n",
    "        if not cls.__isinstance:\n",
    "            cls.__isinstance = object.__new__(cls)\n",
    "        return cls.__isinstance\n",
    "sla = singleleton(\"jack\", 18)\n",
    "slb = singleleton(\"tom\", 20)\n",
    "print(id(sla))\n",
    "print(id(slb))"
   ]
  },
  {
   "cell_type": "code",
   "execution_count": null,
   "metadata": {},
   "outputs": [],
   "source": []
  }
 ],
 "metadata": {
  "kernelspec": {
   "display_name": "py3",
   "language": "python",
   "name": "py3"
  },
  "language_info": {
   "codemirror_mode": {
    "name": "ipython",
    "version": 3
   },
   "file_extension": ".py",
   "mimetype": "text/x-python",
   "name": "python",
   "nbconvert_exporter": "python",
   "pygments_lexer": "ipython3",
   "version": "3.7.2"
  }
 },
 "nbformat": 4,
 "nbformat_minor": 2
}
