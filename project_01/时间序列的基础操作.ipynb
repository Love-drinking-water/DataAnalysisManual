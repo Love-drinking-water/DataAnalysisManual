{
 "cells": [
  {
   "cell_type": "code",
   "execution_count": 1,
   "metadata": {},
   "outputs": [],
   "source": [
    "import numpy as np\n",
    "import pandas as pd\n",
    "from pandas import Series, DataFrame"
   ]
  },
  {
   "cell_type": "code",
   "execution_count": 5,
   "metadata": {},
   "outputs": [],
   "source": [
    "from datetime import datetime"
   ]
  },
  {
   "cell_type": "code",
   "execution_count": 6,
   "metadata": {},
   "outputs": [],
   "source": [
    "t1 = datetime (2009, 10, 20)"
   ]
  },
  {
   "cell_type": "code",
   "execution_count": 7,
   "metadata": {},
   "outputs": [
    {
     "data": {
      "text/plain": [
       "datetime.datetime(2009, 10, 20, 0, 0)"
      ]
     },
     "execution_count": 7,
     "metadata": {},
     "output_type": "execute_result"
    }
   ],
   "source": [
    "t1"
   ]
  },
  {
   "cell_type": "code",
   "execution_count": 13,
   "metadata": {},
   "outputs": [],
   "source": [
    "# 快速生成时间\n",
    "# start 开始时间  end结束时间  periods 时间间隔   freq='D' 天  'W' 周 ‘H’ 小时\n",
    "# date_list_new = pd.date_range('2019-01-01', periods=100)\n",
    "date_list_new = pd.date_range('2019-01-01', periods=100, freq='W-MON')"
   ]
  },
  {
   "cell_type": "code",
   "execution_count": 14,
   "metadata": {},
   "outputs": [
    {
     "data": {
      "text/plain": [
       "DatetimeIndex(['2019-01-07', '2019-01-14', '2019-01-21', '2019-01-28',\n",
       "               '2019-02-04', '2019-02-11', '2019-02-18', '2019-02-25',\n",
       "               '2019-03-04', '2019-03-11', '2019-03-18', '2019-03-25',\n",
       "               '2019-04-01', '2019-04-08', '2019-04-15', '2019-04-22',\n",
       "               '2019-04-29', '2019-05-06', '2019-05-13', '2019-05-20',\n",
       "               '2019-05-27', '2019-06-03', '2019-06-10', '2019-06-17',\n",
       "               '2019-06-24', '2019-07-01', '2019-07-08', '2019-07-15',\n",
       "               '2019-07-22', '2019-07-29', '2019-08-05', '2019-08-12',\n",
       "               '2019-08-19', '2019-08-26', '2019-09-02', '2019-09-09',\n",
       "               '2019-09-16', '2019-09-23', '2019-09-30', '2019-10-07',\n",
       "               '2019-10-14', '2019-10-21', '2019-10-28', '2019-11-04',\n",
       "               '2019-11-11', '2019-11-18', '2019-11-25', '2019-12-02',\n",
       "               '2019-12-09', '2019-12-16', '2019-12-23', '2019-12-30',\n",
       "               '2020-01-06', '2020-01-13', '2020-01-20', '2020-01-27',\n",
       "               '2020-02-03', '2020-02-10', '2020-02-17', '2020-02-24',\n",
       "               '2020-03-02', '2020-03-09', '2020-03-16', '2020-03-23',\n",
       "               '2020-03-30', '2020-04-06', '2020-04-13', '2020-04-20',\n",
       "               '2020-04-27', '2020-05-04', '2020-05-11', '2020-05-18',\n",
       "               '2020-05-25', '2020-06-01', '2020-06-08', '2020-06-15',\n",
       "               '2020-06-22', '2020-06-29', '2020-07-06', '2020-07-13',\n",
       "               '2020-07-20', '2020-07-27', '2020-08-03', '2020-08-10',\n",
       "               '2020-08-17', '2020-08-24', '2020-08-31', '2020-09-07',\n",
       "               '2020-09-14', '2020-09-21', '2020-09-28', '2020-10-05',\n",
       "               '2020-10-12', '2020-10-19', '2020-10-26', '2020-11-02',\n",
       "               '2020-11-09', '2020-11-16', '2020-11-23', '2020-11-30'],\n",
       "              dtype='datetime64[ns]', freq='W-MON')"
      ]
     },
     "execution_count": 14,
     "metadata": {},
     "output_type": "execute_result"
    }
   ],
   "source": [
    "date_list_new"
   ]
  },
  {
   "cell_type": "code",
   "execution_count": 16,
   "metadata": {},
   "outputs": [],
   "source": [
    "s2 = Series(np.random.rand(100), index=date_list_new)"
   ]
  },
  {
   "cell_type": "code",
   "execution_count": 17,
   "metadata": {},
   "outputs": [
    {
     "data": {
      "text/plain": [
       "2019-01-07    0.970896\n",
       "2019-01-14    0.561830\n",
       "2019-01-21    0.635545\n",
       "2019-01-28    0.576517\n",
       "2019-02-04    0.466554\n",
       "                ...   \n",
       "2020-11-02    0.098717\n",
       "2020-11-09    0.980694\n",
       "2020-11-16    0.335518\n",
       "2020-11-23    0.781852\n",
       "2020-11-30    0.944636\n",
       "Freq: W-MON, Length: 100, dtype: float64"
      ]
     },
     "execution_count": 17,
     "metadata": {},
     "output_type": "execute_result"
    }
   ],
   "source": [
    "s2"
   ]
  },
  {
   "cell_type": "markdown",
   "metadata": {},
   "source": [
    "### 时间序列采样和画图"
   ]
  },
  {
   "cell_type": "code",
   "execution_count": 20,
   "metadata": {},
   "outputs": [],
   "source": [
    "t_range = pd.date_range('2019-01-01', '2019-12-31')"
   ]
  },
  {
   "cell_type": "code",
   "execution_count": 21,
   "metadata": {},
   "outputs": [
    {
     "data": {
      "text/plain": [
       "DatetimeIndex(['2019-01-01', '2019-01-02', '2019-01-03', '2019-01-04',\n",
       "               '2019-01-05', '2019-01-06', '2019-01-07', '2019-01-08',\n",
       "               '2019-01-09', '2019-01-10',\n",
       "               ...\n",
       "               '2019-12-22', '2019-12-23', '2019-12-24', '2019-12-25',\n",
       "               '2019-12-26', '2019-12-27', '2019-12-28', '2019-12-29',\n",
       "               '2019-12-30', '2019-12-31'],\n",
       "              dtype='datetime64[ns]', length=365, freq='D')"
      ]
     },
     "execution_count": 21,
     "metadata": {},
     "output_type": "execute_result"
    }
   ],
   "source": [
    "t_range"
   ]
  },
  {
   "cell_type": "code",
   "execution_count": 22,
   "metadata": {},
   "outputs": [],
   "source": [
    "s1 = Series(np.random.randn(len(t_range)), index=t_range)"
   ]
  },
  {
   "cell_type": "code",
   "execution_count": 23,
   "metadata": {},
   "outputs": [
    {
     "data": {
      "text/plain": [
       "2019-01-01    0.351100\n",
       "2019-01-02   -0.458450\n",
       "2019-01-03   -1.009095\n",
       "2019-01-04    0.020632\n",
       "2019-01-05    0.426496\n",
       "                ...   \n",
       "2019-12-27    1.721942\n",
       "2019-12-28   -0.491451\n",
       "2019-12-29    0.276259\n",
       "2019-12-30    1.807699\n",
       "2019-12-31    1.097214\n",
       "Freq: D, Length: 365, dtype: float64"
      ]
     },
     "execution_count": 23,
     "metadata": {},
     "output_type": "execute_result"
    }
   ],
   "source": [
    "s1"
   ]
  },
  {
   "cell_type": "code",
   "execution_count": 25,
   "metadata": {},
   "outputs": [],
   "source": [
    "# 获取每月数据的平均值\n",
    "s1_month = s1.resample('M').mean()"
   ]
  },
  {
   "cell_type": "code",
   "execution_count": 26,
   "metadata": {},
   "outputs": [
    {
     "data": {
      "text/plain": [
       "2019-01-31   -0.215347\n",
       "2019-02-28    0.052041\n",
       "2019-03-31    0.198292\n",
       "2019-04-30   -0.094432\n",
       "2019-05-31   -0.060600\n",
       "2019-06-30   -0.482046\n",
       "2019-07-31    0.220430\n",
       "2019-08-31   -0.046001\n",
       "2019-09-30   -0.215451\n",
       "2019-10-31   -0.133965\n",
       "2019-11-30   -0.064975\n",
       "2019-12-31    0.103810\n",
       "Freq: M, dtype: float64"
      ]
     },
     "execution_count": 26,
     "metadata": {},
     "output_type": "execute_result"
    }
   ],
   "source": [
    "s1_month"
   ]
  },
  {
   "cell_type": "code",
   "execution_count": 27,
   "metadata": {},
   "outputs": [],
   "source": [
    "# 获取每小时数据的平均值\n",
    "# ffill 向前填充数据\n",
    "# bfill 向后填充数据\n",
    "s1_hour = s1.resample('H').bfill()"
   ]
  },
  {
   "cell_type": "code",
   "execution_count": 28,
   "metadata": {},
   "outputs": [
    {
     "data": {
      "text/plain": [
       "2019-01-01 00:00:00    0.351100\n",
       "2019-01-01 01:00:00   -0.458450\n",
       "2019-01-01 02:00:00   -0.458450\n",
       "2019-01-01 03:00:00   -0.458450\n",
       "2019-01-01 04:00:00   -0.458450\n",
       "                         ...   \n",
       "2019-12-30 20:00:00    1.097214\n",
       "2019-12-30 21:00:00    1.097214\n",
       "2019-12-30 22:00:00    1.097214\n",
       "2019-12-30 23:00:00    1.097214\n",
       "2019-12-31 00:00:00    1.097214\n",
       "Freq: H, Length: 8737, dtype: float64"
      ]
     },
     "execution_count": 28,
     "metadata": {},
     "output_type": "execute_result"
    }
   ],
   "source": [
    "s1_hour"
   ]
  },
  {
   "cell_type": "code",
   "execution_count": 29,
   "metadata": {},
   "outputs": [],
   "source": [
    "h_range = pd.date_range('2019-01-01', '2019-12-31', freq='H')"
   ]
  },
  {
   "cell_type": "code",
   "execution_count": 30,
   "metadata": {},
   "outputs": [
    {
     "data": {
      "text/plain": [
       "DatetimeIndex(['2019-01-01 00:00:00', '2019-01-01 01:00:00',\n",
       "               '2019-01-01 02:00:00', '2019-01-01 03:00:00',\n",
       "               '2019-01-01 04:00:00', '2019-01-01 05:00:00',\n",
       "               '2019-01-01 06:00:00', '2019-01-01 07:00:00',\n",
       "               '2019-01-01 08:00:00', '2019-01-01 09:00:00',\n",
       "               ...\n",
       "               '2019-12-30 15:00:00', '2019-12-30 16:00:00',\n",
       "               '2019-12-30 17:00:00', '2019-12-30 18:00:00',\n",
       "               '2019-12-30 19:00:00', '2019-12-30 20:00:00',\n",
       "               '2019-12-30 21:00:00', '2019-12-30 22:00:00',\n",
       "               '2019-12-30 23:00:00', '2019-12-31 00:00:00'],\n",
       "              dtype='datetime64[ns]', length=8737, freq='H')"
      ]
     },
     "execution_count": 30,
     "metadata": {},
     "output_type": "execute_result"
    }
   ],
   "source": [
    "h_range"
   ]
  },
  {
   "cell_type": "code",
   "execution_count": 35,
   "metadata": {},
   "outputs": [],
   "source": [
    "stock_df = DataFrame(index=h_range)\n",
    "stock_df['BABA'] = np.random.randint(80, 160, size=len(h_range))\n",
    "stock_df['TENCENT'] = np.random.randint(60, 140, size=len(h_range))"
   ]
  },
  {
   "cell_type": "code",
   "execution_count": 37,
   "metadata": {},
   "outputs": [
    {
     "data": {
      "text/html": [
       "<div>\n",
       "<style scoped>\n",
       "    .dataframe tbody tr th:only-of-type {\n",
       "        vertical-align: middle;\n",
       "    }\n",
       "\n",
       "    .dataframe tbody tr th {\n",
       "        vertical-align: top;\n",
       "    }\n",
       "\n",
       "    .dataframe thead th {\n",
       "        text-align: right;\n",
       "    }\n",
       "</style>\n",
       "<table border=\"1\" class=\"dataframe\">\n",
       "  <thead>\n",
       "    <tr style=\"text-align: right;\">\n",
       "      <th></th>\n",
       "      <th>BABA</th>\n",
       "      <th>TENCENT</th>\n",
       "    </tr>\n",
       "  </thead>\n",
       "  <tbody>\n",
       "    <tr>\n",
       "      <td>2019-01-01 00:00:00</td>\n",
       "      <td>80</td>\n",
       "      <td>109</td>\n",
       "    </tr>\n",
       "    <tr>\n",
       "      <td>2019-01-01 01:00:00</td>\n",
       "      <td>145</td>\n",
       "      <td>120</td>\n",
       "    </tr>\n",
       "    <tr>\n",
       "      <td>2019-01-01 02:00:00</td>\n",
       "      <td>116</td>\n",
       "      <td>60</td>\n",
       "    </tr>\n",
       "    <tr>\n",
       "      <td>2019-01-01 03:00:00</td>\n",
       "      <td>133</td>\n",
       "      <td>111</td>\n",
       "    </tr>\n",
       "    <tr>\n",
       "      <td>2019-01-01 04:00:00</td>\n",
       "      <td>143</td>\n",
       "      <td>101</td>\n",
       "    </tr>\n",
       "  </tbody>\n",
       "</table>\n",
       "</div>"
      ],
      "text/plain": [
       "                     BABA  TENCENT\n",
       "2019-01-01 00:00:00    80      109\n",
       "2019-01-01 01:00:00   145      120\n",
       "2019-01-01 02:00:00   116       60\n",
       "2019-01-01 03:00:00   133      111\n",
       "2019-01-01 04:00:00   143      101"
      ]
     },
     "execution_count": 37,
     "metadata": {},
     "output_type": "execute_result"
    }
   ],
   "source": [
    "stock_df.head()"
   ]
  },
  {
   "cell_type": "code",
   "execution_count": 38,
   "metadata": {},
   "outputs": [],
   "source": [
    "# 画图\n",
    "\n",
    "import matplotlib.pyplot as plt"
   ]
  },
  {
   "cell_type": "code",
   "execution_count": 41,
   "metadata": {},
   "outputs": [
    {
     "data": {
      "image/png": "[encoded data removed]",
      "text/plain": [
       "<Figure size 432x288 with 1 Axes>"
      ]
     },
     "metadata": {
      "needs_background": "light"
     },
     "output_type": "display_data"
    }
   ],
   "source": [
    "stock_df.plot()\n",
    "plt.show()"
   ]
  },
  {
   "cell_type": "code",
   "execution_count": 42,
   "metadata": {},
   "outputs": [],
   "source": [
    "# 重新采样按照每周一个点\n",
    "weekly_df = DataFrame()"
   ]
  },
  {
   "cell_type": "code",
   "execution_count": 43,
   "metadata": {},
   "outputs": [],
   "source": [
    "weekly_df['BABA'] = stock_df['BABA'].resample('W').mean()"
   ]
  },
  {
   "cell_type": "code",
   "execution_count": 44,
   "metadata": {},
   "outputs": [],
   "source": [
    "weekly_df['TENCENT'] = stock_df['TENCENT'].resample('W').mean()"
   ]
  },
  {
   "cell_type": "code",
   "execution_count": 45,
   "metadata": {},
   "outputs": [
    {
     "data": {
      "text/html": [
       "<div>\n",
       "<style scoped>\n",
       "    .dataframe tbody tr th:only-of-type {\n",
       "        vertical-align: middle;\n",
       "    }\n",
       "\n",
       "    .dataframe tbody tr th {\n",
       "        vertical-align: top;\n",
       "    }\n",
       "\n",
       "    .dataframe thead th {\n",
       "        text-align: right;\n",
       "    }\n",
       "</style>\n",
       "<table border=\"1\" class=\"dataframe\">\n",
       "  <thead>\n",
       "    <tr style=\"text-align: right;\">\n",
       "      <th></th>\n",
       "      <th>BABA</th>\n",
       "      <th>TENCENT</th>\n",
       "    </tr>\n",
       "  </thead>\n",
       "  <tbody>\n",
       "    <tr>\n",
       "      <td>2019-01-06</td>\n",
       "      <td>121.305556</td>\n",
       "      <td>96.027778</td>\n",
       "    </tr>\n",
       "    <tr>\n",
       "      <td>2019-01-13</td>\n",
       "      <td>117.238095</td>\n",
       "      <td>101.113095</td>\n",
       "    </tr>\n",
       "    <tr>\n",
       "      <td>2019-01-20</td>\n",
       "      <td>121.994048</td>\n",
       "      <td>99.113095</td>\n",
       "    </tr>\n",
       "    <tr>\n",
       "      <td>2019-01-27</td>\n",
       "      <td>118.851190</td>\n",
       "      <td>98.547619</td>\n",
       "    </tr>\n",
       "    <tr>\n",
       "      <td>2019-02-03</td>\n",
       "      <td>116.285714</td>\n",
       "      <td>96.910714</td>\n",
       "    </tr>\n",
       "  </tbody>\n",
       "</table>\n",
       "</div>"
      ],
      "text/plain": [
       "                  BABA     TENCENT\n",
       "2019-01-06  121.305556   96.027778\n",
       "2019-01-13  117.238095  101.113095\n",
       "2019-01-20  121.994048   99.113095\n",
       "2019-01-27  118.851190   98.547619\n",
       "2019-02-03  116.285714   96.910714"
      ]
     },
     "execution_count": 45,
     "metadata": {},
     "output_type": "execute_result"
    }
   ],
   "source": [
    "weekly_df.head()"
   ]
  },
  {
   "cell_type": "code",
   "execution_count": 46,
   "metadata": {},
   "outputs": [
    {
     "data": {
      "text/plain": [
       "<matplotlib.axes._subplots.AxesSubplot at 0x124982c50>"
      ]
     },
     "execution_count": 46,
     "metadata": {},
     "output_type": "execute_result"
    },
    {
     "data": {
      "image/png": "[encoded data removed]",
      "text/plain": [
       "<Figure size 432x288 with 1 Axes>"
      ]
     },
     "metadata": {
      "needs_background": "light"
     },
     "output_type": "display_data"
    }
   ],
   "source": [
    "weekly_df.plot()"
   ]
  },
  {
   "cell_type": "code",
   "execution_count": null,
   "metadata": {},
   "outputs": [],
   "source": []
  }
 ],
 "metadata": {
  "kernelspec": {
   "display_name": "Python 3",
   "language": "python",
   "name": "python3"
  },
  "language_info": {
   "codemirror_mode": {
    "name": "ipython",
    "version": 3
   },
   "file_extension": ".py",
   "mimetype": "text/x-python",
   "name": "python",
   "nbconvert_exporter": "python",
   "pygments_lexer": "ipython3",
   "version": "3.7.4"
  }
 },
 "nbformat": 4,
 "nbformat_minor": 2
}
